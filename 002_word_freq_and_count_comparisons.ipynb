{
 "cells": [
  {
   "cell_type": "code",
   "execution_count": 1,
   "id": "1979d5d9",
   "metadata": {},
   "outputs": [
    {
     "data": {
      "text/html": [
       "<style>.container { width:100% !important; }</style>"
      ],
      "text/plain": [
       "<IPython.core.display.HTML object>"
      ]
     },
     "metadata": {},
     "output_type": "display_data"
    }
   ],
   "source": [
    "import pandas as pd\n",
    "import numpy as np\n",
    "\n",
    "# Show all pandas rows/cols:\n",
    "pd.set_option('display.max_rows', 100)\n",
    "pd.set_option('display.max_columns', 100)\n",
    "pd.set_option('display.width', 100)\n",
    "pd.set_option('display.max_colwidth', 100)\n",
    "\n",
    "# Wide display:\n",
    "from IPython.core.display import display, HTML\n",
    "display(HTML(\"<style>.container { width:100% !important; }</style>\"))\n",
    "\n",
    "import data_prep as dp\n",
    "import data_analysis as da"
   ]
  },
  {
   "cell_type": "markdown",
   "id": "60bcc462",
   "metadata": {},
   "source": [
    "# Data load and prep:"
   ]
  },
  {
   "cell_type": "code",
   "execution_count": 2,
   "id": "f77d47f3",
   "metadata": {},
   "outputs": [
    {
     "name": "stdout",
     "output_type": "stream",
     "text": [
      "Getting df...\n",
      "Getting word dict...\n",
      "Done! There are [17393] distinct words used in the texts and the df containts [36319] sentences\n",
      "Showing sample of the df:\n"
     ]
    },
    {
     "data": {
      "text/html": [
       "<div>\n",
       "<style scoped>\n",
       "    .dataframe tbody tr th:only-of-type {\n",
       "        vertical-align: middle;\n",
       "    }\n",
       "\n",
       "    .dataframe tbody tr th {\n",
       "        vertical-align: top;\n",
       "    }\n",
       "\n",
       "    .dataframe thead th {\n",
       "        text-align: right;\n",
       "    }\n",
       "</style>\n",
       "<table border=\"1\" class=\"dataframe\">\n",
       "  <thead>\n",
       "    <tr style=\"text-align: right;\">\n",
       "      <th></th>\n",
       "      <th>sentence</th>\n",
       "      <th>NUM</th>\n",
       "      <th>LIBRARY</th>\n",
       "      <th>AUTHOR</th>\n",
       "      <th>TEXT_NAME</th>\n",
       "      <th>TRANSLATION</th>\n",
       "      <th>AUTHOR_LIBRARY</th>\n",
       "      <th>char_count</th>\n",
       "      <th>words_count</th>\n",
       "    </tr>\n",
       "  </thead>\n",
       "  <tbody>\n",
       "    <tr>\n",
       "      <th>2768</th>\n",
       "      <td>thou shalt not go up and down as a talebearer among thy people neither shalt thou stand against ...</td>\n",
       "      <td>003</td>\n",
       "      <td>OT</td>\n",
       "      <td>Moses</td>\n",
       "      <td>Leviticus</td>\n",
       "      <td>King James</td>\n",
       "      <td>Moses_OT</td>\n",
       "      <td>138</td>\n",
       "      <td>28</td>\n",
       "    </tr>\n",
       "    <tr>\n",
       "      <th>21657</th>\n",
       "      <td>if thy whole body therefore be full of light , having no part dark , the whole shall be full of ...</td>\n",
       "      <td>041</td>\n",
       "      <td>NT</td>\n",
       "      <td>StLuke</td>\n",
       "      <td>The Gospel According to Saint Luke</td>\n",
       "      <td>King James</td>\n",
       "      <td>StLuke_NT</td>\n",
       "      <td>163</td>\n",
       "      <td>35</td>\n",
       "    </tr>\n",
       "  </tbody>\n",
       "</table>\n",
       "</div>"
      ],
      "text/plain": [
       "                                                                                                  sentence  \\\n",
       "2768   thou shalt not go up and down as a talebearer among thy people neither shalt thou stand against ...   \n",
       "21657  if thy whole body therefore be full of light , having no part dark , the whole shall be full of ...   \n",
       "\n",
       "       NUM LIBRARY  AUTHOR                           TEXT_NAME TRANSLATION AUTHOR_LIBRARY  \\\n",
       "2768   003      OT   Moses                           Leviticus  King James       Moses_OT   \n",
       "21657  041      NT  StLuke  The Gospel According to Saint Luke  King James      StLuke_NT   \n",
       "\n",
       "       char_count  words_count  \n",
       "2768          138           28  \n",
       "21657         163           35  "
      ]
     },
     "execution_count": 2,
     "metadata": {},
     "output_type": "execute_result"
    }
   ],
   "source": [
    "print('Getting df...')\n",
    "df = dp.return_dataset()\n",
    "print('Getting word dict...')\n",
    "words_dict = da.get_words_dict(list(df['sentence']))\n",
    "print(f'Done! There are [{len(words_dict)}] distinct words used in the texts and the df containts [{len(df)}] sentences')\n",
    "print('Showing sample of the df:')\n",
    "df.sample(2)"
   ]
  },
  {
   "cell_type": "markdown",
   "id": "7e546e6f",
   "metadata": {},
   "source": [
    "# Word Freq and Count comparison:\n",
    "For every LIBRARY (Bible OT and NT, Nag Hammady or Control) or for every AUTHOR, <br>\n",
    "we are going to compare how much more words the text by the given AUTHOR/LIBRAY uses (Y axis) <br>\n",
    "and the difference in the frequency of apperance of the specific words (X axis) <br>\n",
    "<br>\n",
    "Then we are going to plot the results for visualization"
   ]
  },
  {
   "cell_type": "code",
   "execution_count": null,
   "id": "e9334ea7",
   "metadata": {
    "scrolled": true
   },
   "outputs": [
    {
     "name": "stdout",
     "output_type": "stream",
     "text": [
      "Comparing all texts...\n"
     ]
    }
   ],
   "source": [
    "results = da.freq_compare_with_Bible_loop(df, words_dict, texts='all')\n",
    "results.sample(2)"
   ]
  },
  {
   "cell_type": "code",
   "execution_count": null,
   "id": "5403e606",
   "metadata": {},
   "outputs": [],
   "source": [
    "da.word_freq_and_count_plot(results, who='LIBRARY')"
   ]
  },
  {
   "cell_type": "code",
   "execution_count": null,
   "id": "2796fd7e",
   "metadata": {},
   "outputs": [],
   "source": [
    "da.word_freq_and_count_plot(results, who='AUTHOR_LIBRARY')"
   ]
  },
  {
   "cell_type": "code",
   "execution_count": null,
   "id": "1b04a464",
   "metadata": {},
   "outputs": [],
   "source": []
  }
 ],
 "metadata": {
  "kernelspec": {
   "display_name": "Python 3",
   "language": "python",
   "name": "python3"
  },
  "language_info": {
   "codemirror_mode": {
    "name": "ipython",
    "version": 3
   },
   "file_extension": ".py",
   "mimetype": "text/x-python",
   "name": "python",
   "nbconvert_exporter": "python",
   "pygments_lexer": "ipython3",
   "version": "3.8.8"
  }
 },
 "nbformat": 4,
 "nbformat_minor": 5
}
