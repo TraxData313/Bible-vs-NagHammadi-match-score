{
 "cells": [
  {
   "cell_type": "code",
   "execution_count": 1,
   "id": "70f6cd42",
   "metadata": {},
   "outputs": [
    {
     "data": {
      "text/html": [
       "<style>.container { width:100% !important; }</style>"
      ],
      "text/plain": [
       "<IPython.core.display.HTML object>"
      ]
     },
     "metadata": {},
     "output_type": "display_data"
    }
   ],
   "source": [
    "import pandas as pd\n",
    "import numpy as np\n",
    "import importlib\n",
    "import matplotlib.pyplot as plt\n",
    "\n",
    "# Show all pandas rows/cols:\n",
    "pd.set_option('display.max_rows', 100)\n",
    "pd.set_option('display.max_columns', 100)\n",
    "pd.set_option('display.width', 100)\n",
    "pd.set_option('display.max_colwidth', 100)\n",
    "\n",
    "# Wide display:\n",
    "from IPython.core.display import display, HTML\n",
    "display(HTML(\"<style>.container { width:100% !important; }</style>\"))\n",
    "\n",
    "import data_prep as dp\n",
    "import data_analysis as da\n",
    "#importlib.reload(dp)\n",
    "#importlib.reload(da)"
   ]
  },
  {
   "cell_type": "markdown",
   "id": "911abab9",
   "metadata": {},
   "source": [
    "# Used functions:"
   ]
  },
  {
   "cell_type": "code",
   "execution_count": 2,
   "id": "54289f63",
   "metadata": {},
   "outputs": [],
   "source": [
    "def freq_compare_with_Bible(df, who='TEXT_NAME', name='The Apocryphon of John', words_dict=None):\n",
    "    \"\"\"Gets word frequency for the Bible (without the text, if the text is in the Bible),\n",
    "    Gets word freq for the text,\n",
    "    Returns log of the mean absolute word freq difference of the two texts\n",
    "    \n",
    "    if the word_dict is not passed it will be created (takes a few minutes, so better create it and pass it)\n",
    "    \"\"\"\n",
    "    # - Word dict on all possible words:\n",
    "    if words_dict is None:\n",
    "        print('- Getting word dict...')\n",
    "        words_dict = da.get_words_dict(list(df['sentence']))\n",
    "    # - Bible df:\n",
    "    bdf_cond = (df['LIBRARY'].isin(['OT', 'NT']))&(df[who]!=name)\n",
    "    bdf = df.loc[bdf_cond]\n",
    "    # - Text df:\n",
    "    tdf = df.loc[df[who]==name]\n",
    "    # - Freq comparison:\n",
    "    #print(f'- Calculating log mean abs freq diff for [{name}]...')\n",
    "    freq_diff = da.get_mean_freq_diff(list(bdf['sentence']), list(tdf['sentence']), words_dict)\n",
    "    freq_diff = np.log(freq_diff)\n",
    "    return freq_diff\n",
    "\n",
    "def plot_who_vs_LMAWFD(results, df, who = 'AUTHOR'):\n",
    "    results_agr = results.groupby(who).agg({'LMAWFD': 'mean'}).reset_index().sort_values('LMAWFD', ascending=False).reset_index(drop=True)\n",
    "    \n",
    "    # - Data:\n",
    "    X1 = results_agr['LMAWFD']\n",
    "    if who == 'AUTHOR':\n",
    "        # Y1 from 'AUTHOR' -> 'AUTHOR, LIBRAY' as well\n",
    "        Y1 = results_agr[who]\n",
    "        for i in range(len(Y1)):\n",
    "            Y1[i] = Y1[i] + ', ' + df.loc[df['AUTHOR']==Y1[i]]['LIBRARY'].unique()[0]\n",
    "    else:\n",
    "        Y1 = results_agr[who]\n",
    "\n",
    "    # - Figure size:\n",
    "    fig = plt.figure(figsize=(35,15))\n",
    "\n",
    "    # - Plot 1:\n",
    "    #plt.scatter(X1, Y1, color = 'blue')\n",
    "    colors1 = np.array([0, 10, 20, 30])\n",
    "    plt.scatter(X1, Y1, c='red', marker='x', s=200) #, cmap='viridis')\n",
    "    #plt.colorbar() # show the colorbar\n",
    "\n",
    "    # - Labels and Title:\n",
    "    font1 = {'family':'serif','color':'black','size':25}\n",
    "    font2 = {'family':'serif','color':'darkred','size':25}\n",
    "    plt.title(\"X vs Y plot\", fontdict = font1, \n",
    "              loc = 'left' # def=center\n",
    "             )\n",
    "    plt.xlabel(\"Log Mean Abs Word Freq Diff\", fontdict = font2)\n",
    "    plt.ylabel(f\"{who}\", fontdict = font2)\n",
    "\n",
    "    # - Grid:\n",
    "    #plt.grid() # add grid on both axis\n",
    "    plt.grid(\n",
    "        axis = 'y', # def=both\n",
    "        color = 'blue', # specify the grid color\n",
    "        linestyle = '--', # specify the grid style\n",
    "        linewidth = 1\n",
    "            )\n",
    "\n",
    "    plt.show()\n",
    "    \n",
    "def freq_compare_with_Bible_loop(texts='all'):\n",
    "    #texts: all, Bible/Control\n",
    "    if texts == 'all':\n",
    "        # - All texts:\n",
    "        print('Comparing all texts...')\n",
    "        texts = list(df.loc[df['LIBRARY'].isin(['OT','NT','NH','Control'])]['TEXT_NAME'].unique())\n",
    "    else:\n",
    "        # - Bible vs control:\n",
    "        print('Comparing Bible (OT,NT) with Control texts only (no NH)...')\n",
    "        texts = list(df.loc[df['LIBRARY'].isin(['OT','NT','Control'])]['TEXT_NAME'].unique())\n",
    "    results = {}\n",
    "    LIBRARYs = []\n",
    "    AUTHORs = []\n",
    "    TRANSLATIONs = []\n",
    "    AUTHOR_LIBRARYs = []\n",
    "    for text in texts:\n",
    "        LIBRARYs.append(df.loc[df['TEXT_NAME']==text]['LIBRARY'].unique()[0])\n",
    "        AUTHORs.append(df.loc[df['TEXT_NAME']==text]['AUTHOR'].unique()[0])\n",
    "        TRANSLATIONs.append(df.loc[df['TEXT_NAME']==text]['TRANSLATION'].unique()[0])\n",
    "        AUTHOR_LIBRARYs.append(df.loc[df['TEXT_NAME']==text]['AUTHOR_LIBRARY'].unique()[0])\n",
    "        results[text] = freq_compare_with_Bible(df, who='TEXT_NAME', name=text, words_dict=words_dict)\n",
    "    results = pd.DataFrame({\n",
    "        'TEXT': results.keys(), \n",
    "        'LIBRARY': LIBRARYs,\n",
    "        'AUTHOR': AUTHORs,\n",
    "        'TRANSLATION': TRANSLATIONs,\n",
    "        'AUTHOR_LIBRARY': AUTHOR_LIBRARYs,\n",
    "        'LMAWFD': results.values()\n",
    "    })\n",
    "    results.sort_values('LMAWFD', ascending=False).reset_index(drop=True)\n",
    "    print('- Done!')\n",
    "    return results"
   ]
  },
  {
   "cell_type": "code",
   "execution_count": 3,
   "id": "312cfd2d",
   "metadata": {},
   "outputs": [
    {
     "name": "stdout",
     "output_type": "stream",
     "text": [
      "36319\n"
     ]
    },
    {
     "data": {
      "text/html": [
       "<div>\n",
       "<style scoped>\n",
       "    .dataframe tbody tr th:only-of-type {\n",
       "        vertical-align: middle;\n",
       "    }\n",
       "\n",
       "    .dataframe tbody tr th {\n",
       "        vertical-align: top;\n",
       "    }\n",
       "\n",
       "    .dataframe thead th {\n",
       "        text-align: right;\n",
       "    }\n",
       "</style>\n",
       "<table border=\"1\" class=\"dataframe\">\n",
       "  <thead>\n",
       "    <tr style=\"text-align: right;\">\n",
       "      <th></th>\n",
       "      <th>sentence</th>\n",
       "      <th>NUM</th>\n",
       "      <th>LIBRARY</th>\n",
       "      <th>AUTHOR</th>\n",
       "      <th>TEXT_NAME</th>\n",
       "      <th>TRANSLATION</th>\n",
       "      <th>char_count</th>\n",
       "      <th>words_count</th>\n",
       "      <th>AUTHOR_LIBRARY</th>\n",
       "    </tr>\n",
       "  </thead>\n",
       "  <tbody>\n",
       "    <tr>\n",
       "      <th>2224</th>\n",
       "      <td>so the people were restrained from bringing</td>\n",
       "      <td>002</td>\n",
       "      <td>OT</td>\n",
       "      <td>Moses</td>\n",
       "      <td>Exodus</td>\n",
       "      <td>King James</td>\n",
       "      <td>43</td>\n",
       "      <td>7</td>\n",
       "      <td>Moses_OT</td>\n",
       "    </tr>\n",
       "    <tr>\n",
       "      <th>2359</th>\n",
       "      <td>and he set up the hanging at the door of the tabernacle</td>\n",
       "      <td>002</td>\n",
       "      <td>OT</td>\n",
       "      <td>Moses</td>\n",
       "      <td>Exodus</td>\n",
       "      <td>King James</td>\n",
       "      <td>55</td>\n",
       "      <td>12</td>\n",
       "      <td>Moses_OT</td>\n",
       "    </tr>\n",
       "  </tbody>\n",
       "</table>\n",
       "</div>"
      ],
      "text/plain": [
       "                                                     sentence  NUM LIBRARY AUTHOR TEXT_NAME  \\\n",
       "2224              so the people were restrained from bringing  002      OT  Moses    Exodus   \n",
       "2359  and he set up the hanging at the door of the tabernacle  002      OT  Moses    Exodus   \n",
       "\n",
       "     TRANSLATION  char_count  words_count AUTHOR_LIBRARY  \n",
       "2224  King James          43            7       Moses_OT  \n",
       "2359  King James          55           12       Moses_OT  "
      ]
     },
     "execution_count": 3,
     "metadata": {},
     "output_type": "execute_result"
    }
   ],
   "source": [
    "df = dp.return_dataset()\n",
    "df['AUTHOR_LIBRARY'] = df['AUTHOR'] + '_' + df['LIBRARY']\n",
    "print(len(df))\n",
    "df.sample(2)"
   ]
  },
  {
   "cell_type": "code",
   "execution_count": null,
   "id": "8cde9509",
   "metadata": {},
   "outputs": [
    {
     "name": "stdout",
     "output_type": "stream",
     "text": [
      "Caulculating word dict...\n"
     ]
    }
   ],
   "source": [
    "print('Caulculating word dict...')\n",
    "words_dict = da.get_words_dict(list(df['sentence']))"
   ]
  },
  {
   "cell_type": "markdown",
   "id": "cfcae680",
   "metadata": {},
   "source": [
    "# Compute the Log Mean Abs Freq Diff of the Bible with every text:"
   ]
  },
  {
   "cell_type": "markdown",
   "id": "3610937c",
   "metadata": {},
   "source": [
    "# I. Bible (OT, NT) vs Control only:"
   ]
  },
  {
   "cell_type": "code",
   "execution_count": null,
   "id": "c2240c8d",
   "metadata": {
    "scrolled": true
   },
   "outputs": [],
   "source": [
    "results = freq_compare_with_Bible_loop(texts='Bible/Control')\n",
    "results.sample(2)"
   ]
  },
  {
   "cell_type": "code",
   "execution_count": null,
   "id": "a5071e4d",
   "metadata": {},
   "outputs": [],
   "source": [
    "plot_who_vs_LMAWFD(results, df, who='LIBRARY')"
   ]
  },
  {
   "cell_type": "code",
   "execution_count": null,
   "id": "fe371e1e",
   "metadata": {},
   "outputs": [],
   "source": [
    "plot_who_vs_LMAWFD(results, df, who='AUTHOR_LIBRARY')"
   ]
  },
  {
   "cell_type": "markdown",
   "id": "815097fd",
   "metadata": {},
   "source": [
    "# II. All texts:"
   ]
  },
  {
   "cell_type": "code",
   "execution_count": null,
   "id": "3bbab06a",
   "metadata": {
    "scrolled": true
   },
   "outputs": [],
   "source": [
    "results_all = freq_compare_with_Bible_loop(texts='all')\n",
    "results_all.sample(2)"
   ]
  },
  {
   "cell_type": "code",
   "execution_count": null,
   "id": "7f366af3",
   "metadata": {},
   "outputs": [],
   "source": [
    "plot_who_vs_LMAWFD(results_all, df, who='LIBRARY')"
   ]
  },
  {
   "cell_type": "code",
   "execution_count": null,
   "id": "43196daf",
   "metadata": {},
   "outputs": [],
   "source": [
    "plot_who_vs_LMAWFD(results_all, df, who='AUTHOR_LIBRARY')"
   ]
  },
  {
   "cell_type": "code",
   "execution_count": null,
   "id": "26fa934c",
   "metadata": {},
   "outputs": [],
   "source": []
  }
 ],
 "metadata": {
  "kernelspec": {
   "display_name": "Python 3",
   "language": "python",
   "name": "python3"
  },
  "language_info": {
   "codemirror_mode": {
    "name": "ipython",
    "version": 3
   },
   "file_extension": ".py",
   "mimetype": "text/x-python",
   "name": "python",
   "nbconvert_exporter": "python",
   "pygments_lexer": "ipython3",
   "version": "3.8.8"
  }
 },
 "nbformat": 4,
 "nbformat_minor": 5
}
